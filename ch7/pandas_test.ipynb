{
 "cells": [
  {
   "metadata": {},
   "cell_type": "code",
   "outputs": [],
   "execution_count": null,
   "source": [
    "# Pandas는\n",
    "# 파이썬에서 표(table) 형태의 데이터를 쉽고\n",
    "# 직관적으로 다룰 수 있도록 만들어진 강력한 라이브러리입니다.\n",
    "# 엑셀 스프레드시트나 데이터베이스의 테이블처럼\n",
    "# 행과 열로 이루어진 데이터를 처리하는 데 최적화되어 있습니다. 🐼\n",
    "\n",
    "# 기본 개념 및 설명\n",
    "# 1. Pandas를 왜 사용할까요?\n",
    "# 1)\n",
    "# 데이터 핸들링: CSV, 엑셀 파일 등 다양한 포맷의 데이터를\n",
    "# 손쉽게 불러오고 저장할 수 있습니다.\n",
    "# 2)\n",
    "# 데이터 정제:\n",
    "# 비어있는 값(결측치)을 처리하거나,\n",
    "# 데이터를 원하는 형태로 가공하는 작업이 매우 편리합니다.\n",
    "# 3)\n",
    "# 데이터 분석 및 탐색:\n",
    "# 데이터의 통계 정보를 쉽게 확인하고,\n",
    "# 데이터를 정렬, 필터링, 그룹화하는 등 분석에 필요한 대부분의 기능을 제공합니다.\n",
    "#\n",
    "# 2. 핵심 데이터 구조: Series와 DataFrame\n",
    "#\n",
    "# Pandas의 핵심은 두 가지 주요 데이터 구조입니다.\n",
    "#\n",
    "# Series (시리즈):\n",
    "# 1차원 배열과 같은 구조로,\n",
    "# 하나의 열(column)에 해당하는 데이터를 담습니다.\n",
    "# 각 데이터는 **인덱스(Index)**라는 고유한 이름표를 가집니다.\n",
    "#\n",
    "# DataFrame (데이터프레임):\n",
    "# 2차원 테이블(표) 구조로, 여러 개의 Series가 모여 만들어집니다.\n",
    "# 행(row)과 열(column)으로 구성되며,\n",
    "# 각 행과 열마다 인덱스를 가집니다.\n",
    "# Pandas를 사용한다고 하면 대부분 이 DataFrame을 다루는 것을 의미합니다.\n",
    "\n",
    "# 설치\n",
    "# pip install pandas\n",
    "\n",
    "# 실제 사용\n",
    "# import pandas as pd"
   ],
   "id": "dce5439b4651bf38"
  },
  {
   "metadata": {
    "ExecuteTime": {
     "end_time": "2025-09-04T05:12:39.409578Z",
     "start_time": "2025-09-04T05:12:38.008965Z"
    }
   },
   "cell_type": "code",
   "source": [
    "# 학생들의 이름, 학년, 점수 데이터\n",
    "import pandas as pd\n",
    "student_data = {\n",
    "    '이름': ['김판다', '이효리', '유재석', '강호동'],\n",
    "    '학년': [2, 4, 1, 3],\n",
    "    '점수': [85, 95, 70, 88]\n",
    "}\n",
    "\n",
    "# 딕셔너리를 사용하여 DataFrame 생성\n",
    "df = pd.DataFrame(student_data)\n",
    "\n",
    "# 생성된 DataFrame 출력\n",
    "print(df)"
   ],
   "id": "c8b8426f0cf429dd",
   "outputs": [
    {
     "name": "stdout",
     "output_type": "stream",
     "text": [
      "    이름  학년  점수\n",
      "0  김판다   2  85\n",
      "1  이효리   4  95\n",
      "2  유재석   1  70\n",
      "3  강호동   3  88\n"
     ]
    }
   ],
   "execution_count": 1
  },
  {
   "metadata": {
    "ExecuteTime": {
     "end_time": "2025-09-04T05:13:47.600252Z",
     "start_time": "2025-09-04T05:13:47.592306Z"
    }
   },
   "cell_type": "code",
   "source": [
    "#  데이터 선택하기 (Selecting Data)\n",
    "\n",
    "# DataFrame에서 원하는 열이나 행을 선택하는 것은 가장 기본적인 작업입니다.\n",
    "# '이름' 열만 선택하기 (Series 형태로 반환됨)\n",
    "names = df['이름']\n",
    "print(\"--- '이름' 열 선택 ---\")\n",
    "print(names)\n",
    "\n",
    "# '이름'과 '점수' 두 개의 열 선택하기 (DataFrame 형태로 반환됨)\n",
    "# [[...]] 처럼 대괄호를 두 번 사용합니다.\n",
    "name_scores = df[['이름', '점수']]\n",
    "print(\"\\n--- '이름', '점수' 열 선택 ---\")\n",
    "print(name_scores)"
   ],
   "id": "ab1d776f2d71d9df",
   "outputs": [
    {
     "name": "stdout",
     "output_type": "stream",
     "text": [
      "--- '이름' 열 선택 ---\n",
      "0    김판다\n",
      "1    이효리\n",
      "2    유재석\n",
      "3    강호동\n",
      "Name: 이름, dtype: object\n",
      "\n",
      "--- '이름', '점수' 열 선택 ---\n",
      "    이름  점수\n",
      "0  김판다  85\n",
      "1  이효리  95\n",
      "2  유재석  70\n",
      "3  강호동  88\n"
     ]
    }
   ],
   "execution_count": 2
  },
  {
   "metadata": {
    "ExecuteTime": {
     "end_time": "2025-09-04T05:14:38.186741Z",
     "start_time": "2025-09-04T05:14:38.177368Z"
    }
   },
   "cell_type": "code",
   "source": [
    "# 조건으로 데이터 필터링하기\n",
    "# 점수가 90점 이상인 학생들만 추출\n",
    "high_scores = df[df['점수'] >= 90]\n",
    "print(\"--- 점수가 90점 이상인 학생 ---\")\n",
    "print(high_scores)"
   ],
   "id": "68bfe04ec205b6f0",
   "outputs": [
    {
     "name": "stdout",
     "output_type": "stream",
     "text": [
      "--- 점수가 90점 이상인 학생 ---\n",
      "    이름  학년  점수\n",
      "1  이효리   4  95\n"
     ]
    }
   ],
   "execution_count": 3
  },
  {
   "cell_type": "code",
   "execution_count": null,
   "id": "initial_id",
   "metadata": {
    "collapsed": true
   },
   "outputs": [],
   "source": [
    "\n",
    "# ✅ 1 ️⃣ Pandas Series 정의하기\n",
    "#\n",
    "# Series: Pandas에서 1차원 배열(리스트와 유사) 한 데이터 구조로,\n",
    "# Index(인덱스)를 사용하여 데이터를 쉽게 접근할 수 있음.\n",
    "\n",
    "# 📌 문법\n",
    "\n",
    "# import pandas as pd\n",
    "#\n",
    "# series = pd.Series(data, index=labels)\n",
    "\n",
    "# 📌 예제\n",
    "\n",
    "import pandas as pd\n",
    "\n",
    "data = [100, 200, 300, 400]\n",
    "index_labels = ['A', 'B', 'C', 'D']\n",
    "series = pd.Series(data, index=index_labels)\n",
    "print(series)\n",
    "\n",
    "# 출력 결과:\n",
    "#\n",
    "# A    100\n",
    "# B    200\n",
    "# C    300\n",
    "# D    400\n",
    "# dtype: int64\n",
    "\n",
    "# 📌 실무 활용\n",
    "#\n",
    "# 금융 데이터에서 특정 날짜별 주식 가격 저장\n",
    "#\n",
    "# 설문조사 데이터에서 특정 응답자의 답변 저장"
   ]
  },
  {
   "metadata": {
    "ExecuteTime": {
     "end_time": "2025-09-04T05:25:11.641226Z",
     "start_time": "2025-09-04T05:25:11.633468Z"
    }
   },
   "cell_type": "code",
   "source": [
    "# ✅ 2 ️⃣ DataFrame (2차원 배열)\n",
    "#\n",
    "# DataFrame: 행과 열이 있는 2차원 데이터 구조로,\n",
    "# 딕셔너리 또는 Numpy 배열을 활용하여 생성 가능\n",
    "#\n",
    "# 📌 문법\n",
    "#\n",
    "# df = pd.DataFrame(data, index=row_labels, columns=column_labels)\n",
    "#\n",
    "# 📌 예제\n",
    "\n",
    "data = {'이름': ['철수', '영희', '민수'],\n",
    "        '나이': [24, 25, 23],\n",
    "        '성별': ['남', '여', '남']}\n",
    "\n",
    "df = pd.DataFrame(data)\n",
    "print(df)\n",
    "\n",
    "# 출력 결과:\n",
    "#\n",
    "#    이름  나이 성별\n",
    "# 0  철수  24  남\n",
    "# 1  영희  25  여\n",
    "# 2  민수  23  남\n",
    "#\n",
    "# 📌 실무 활용\n",
    "#\n",
    "# 판매 데이터에서 제품별 가격 및 수량 관리\n",
    "#\n",
    "# 고객 데이터 관리 (이름, 나이, 성별, 구매 내역 등)"
   ],
   "id": "feb96abec3d99054",
   "outputs": [
    {
     "name": "stdout",
     "output_type": "stream",
     "text": [
      "   이름  나이 성별\n",
      "0  철수  24  남\n",
      "1  영희  25  여\n",
      "2  민수  23  남\n"
     ]
    }
   ],
   "execution_count": 4
  },
  {
   "metadata": {
    "ExecuteTime": {
     "end_time": "2025-09-04T05:25:56.216919Z",
     "start_time": "2025-09-04T05:25:56.208785Z"
    }
   },
   "cell_type": "code",
   "source": [
    "# ✅ 3 ️⃣ DataFrame 인덱스 및 컬럼 설정\n",
    "#\n",
    "# 행 방향의 index 설정: index 매개변수 활용\n",
    "# 열 방향의 컬럼 설정: columns 매개변수 활용\n",
    "#\n",
    "# 📌 문법\n",
    "#\n",
    "# df.index = row_labels\n",
    "# df.columns = column_labels\n",
    "#\n",
    "# 📌 예제\n",
    "\n",
    "df.index = ['ID1', 'ID2', 'ID3']\n",
    "df.columns = ['이름2', '나이2', '성별2']\n",
    "print(df)\n",
    "\n",
    "# 출력 결과:\n",
    "#\n",
    "#        이름  나이 성별\n",
    "# ID1  철수  24  남\n",
    "# ID2  영희  25  여\n",
    "# ID3  민수  23  남\n",
    "#\n",
    "# 📌 실무 활용\n",
    "#\n",
    "# 고객 데이터를 고유 ID 기준으로 설정\n",
    "#\n",
    "# 제품 데이터에서 제품명 기준으로 데이터 정리"
   ],
   "id": "4d374d99d5c04c88",
   "outputs": [
    {
     "name": "stdout",
     "output_type": "stream",
     "text": [
      "    이름2  나이2 성별2\n",
      "ID1  철수   24   남\n",
      "ID2  영희   25   여\n",
      "ID3  민수   23   남\n"
     ]
    }
   ],
   "execution_count": 6
  },
  {
   "metadata": {
    "ExecuteTime": {
     "end_time": "2025-09-04T05:29:27.664874Z",
     "start_time": "2025-09-04T05:29:27.652099Z"
    }
   },
   "cell_type": "code",
   "source": [
    "# ✅ 4 ️⃣ describe() 함수\n",
    "#\n",
    "# 데이터 요약 통계량 확인 (평균, 표준편차, 최소/최대값 등 자동 계산)\n",
    "#\n",
    "# 📌 문법\n",
    "#\n",
    "# df.describe()\n",
    "#\n",
    "# 📌 예제\n",
    "\n",
    "df = pd.DataFrame({\n",
    "    '가격': [1000, 1500, 2000, 2500, 3000],\n",
    "    '판매량': [10, 15, 20, 25, 30]\n",
    "})\n",
    "\n",
    "print(df.describe())\n",
    "print(df)\n",
    "\n",
    "# 출력 결과:\n",
    "#\n",
    "#                 가격        판매량\n",
    "# count     5.000000   5.000000\n",
    "# mean   2000.000000  20.000000\n",
    "# std     790.569415   7.905694\n",
    "# min    1000.000000  10.000000\n",
    "# 25%    1500.000000  15.000000\n",
    "# 50%    2000.000000  20.000000\n",
    "# 75%    2500.000000  25.000000\n",
    "# max    3000.000000  30.000000\n",
    "#\n",
    "# 📌 실무 활용\n",
    "#\n",
    "# 매출 분석을 위해 평균 판매량과 가격 확인\n",
    "\n",
    "# 주식 데이터에서 가격 변동성 확인"
   ],
   "id": "1875579e724c1343",
   "outputs": [
    {
     "name": "stdout",
     "output_type": "stream",
     "text": [
      "                가격        판매량\n",
      "count     5.000000   5.000000\n",
      "mean   2000.000000  20.000000\n",
      "std     790.569415   7.905694\n",
      "min    1000.000000  10.000000\n",
      "25%    1500.000000  15.000000\n",
      "50%    2000.000000  20.000000\n",
      "75%    2500.000000  25.000000\n",
      "max    3000.000000  30.000000\n",
      "     가격  판매량\n",
      "0  1000   10\n",
      "1  1500   15\n",
      "2  2000   20\n",
      "3  2500   25\n",
      "4  3000   30\n"
     ]
    }
   ],
   "execution_count": 9
  },
  {
   "metadata": {
    "ExecuteTime": {
     "end_time": "2025-09-04T05:28:57.508609Z",
     "start_time": "2025-09-04T05:28:57.497379Z"
    }
   },
   "cell_type": "code",
   "source": [
    "# ✅ 5 ️⃣ DataFrame 특정 열 선택 및 조작\n",
    "#\n",
    "# 특정 열을 선택하거나 수정 가능\n",
    "#\n",
    "# 📌 문법\n",
    "#\n",
    "# df['열이름'] = 값\n",
    "# df['열이름'] += 100  # 값 변경\n",
    "\n",
    "# 📌 예제\n",
    "\n",
    "df['판매량'] = df['판매량'] * 2  # 판매량 2배 증가\n",
    "print(df)\n",
    "\n",
    "# 출력 결과:\n",
    "#\n",
    "#       가격  판매량\n",
    "# 0  1000   20\n",
    "# 1  1500   30\n",
    "# 2  2000   40\n",
    "# 3  2500   50\n",
    "# 4  3000   60\n",
    "#\n",
    "# 📌 실무 활용\n",
    "#\n",
    "# 제품 가격 조정\n",
    "#\n",
    "# 급여 계산 (세금 적용 후 순수익 산출)"
   ],
   "id": "2e1a850420256194",
   "outputs": [
    {
     "name": "stdout",
     "output_type": "stream",
     "text": [
      "     가격  판매량\n",
      "0  1000   20\n",
      "1  1500   30\n",
      "2  2000   40\n",
      "3  2500   50\n",
      "4  3000   60\n"
     ]
    }
   ],
   "execution_count": 8
  },
  {
   "metadata": {
    "ExecuteTime": {
     "end_time": "2025-09-04T05:31:15.180347Z",
     "start_time": "2025-09-04T05:31:15.172215Z"
    }
   },
   "cell_type": "code",
   "source": [
    "# ✅ 6️ ⃣ DataFrame 새로운 열 추가\n",
    "#\n",
    "# 연산 결과를 새로운 열로 추가 가능\n",
    "#\n",
    "# 📌 문법\n",
    "#\n",
    "# df['새로운열'] = 값\n",
    "#\n",
    "# 📌 예제\n",
    "\n",
    "df['총액'] = df['가격'] * df['판매량']\n",
    "print(df)\n",
    "\n",
    "# 출력 결과:\n",
    "#\n",
    "#       가격  판매량     총액\n",
    "# 0  1000   20  20000\n",
    "# 1  1500   30  45000\n",
    "# 2  2000   40  80000\n",
    "# 3  2500   50  125000\n",
    "# 4  3000   60  180000\n",
    "#\n",
    "# 📌 실무 활용\n",
    "#\n",
    "# 매출 데이터에서 총 매출액 추가\n",
    "#\n",
    "# 근무 시간 데이터에서 급여 계산"
   ],
   "id": "32518fe0f554deeb",
   "outputs": [
    {
     "name": "stdout",
     "output_type": "stream",
     "text": [
      "     가격  판매량     총액\n",
      "0  1000   10  10000\n",
      "1  1500   15  22500\n",
      "2  2000   20  40000\n",
      "3  2500   25  62500\n",
      "4  3000   30  90000\n"
     ]
    }
   ],
   "execution_count": 10
  },
  {
   "metadata": {
    "ExecuteTime": {
     "end_time": "2025-09-04T05:33:07.455251Z",
     "start_time": "2025-09-04T05:33:07.449329Z"
    }
   },
   "cell_type": "code",
   "source": [
    "# ✅ 7 ️⃣ DataFrame 행 선택 및 조작\n",
    "#\n",
    "# .loc[]: 라벨(이름)로 접근\n",
    "# .iloc[]: 인덱스 번호로 접근\n",
    "#\n",
    "# 📌 문법\n",
    "#\n",
    "# df.loc['행이름']\n",
    "# df.iloc[행번호]\n",
    "#\n",
    "# 📌 예제\n",
    "\n",
    "print(df.loc[1])  # 두 번째 행 데이터\n",
    "print(df.iloc[1])  # 두 번째 행 데이터\n",
    "\n",
    "# 출력 결과:\n",
    "#\n",
    "# 가격     1500\n",
    "# 판매량    30\n",
    "# 총액   45000\n",
    "# Name: 1, dtype: int64\n",
    "#\n",
    "# 📌 실무 활용\n",
    "#\n",
    "# 특정 고객 정보 조회\n",
    "#\n",
    "# 특정 날짜의 주식 데이터 조회"
   ],
   "id": "b1bfc64eb2736fc6",
   "outputs": [
    {
     "name": "stdout",
     "output_type": "stream",
     "text": [
      "가격      1500\n",
      "판매량       15\n",
      "총액     22500\n",
      "Name: 1, dtype: int64\n",
      "가격      1500\n",
      "판매량       15\n",
      "총액     22500\n",
      "Name: 1, dtype: int64\n"
     ]
    }
   ],
   "execution_count": 12
  },
  {
   "metadata": {
    "ExecuteTime": {
     "end_time": "2025-09-04T05:34:24.827338Z",
     "start_time": "2025-09-04T05:34:24.811182Z"
    }
   },
   "cell_type": "code",
   "source": [
    "# 8️ ⃣ NaN 처리\n",
    "#\n",
    "# 결측값 대체\n",
    "#\n",
    "# 📌 문법\n",
    "#\n",
    "# df.dropna()  # NaN 값 제거\n",
    "# df.fillna(0)  # NaN 값을 0으로 채우기\n",
    "#\n",
    "# 📌 예제\n",
    "\n",
    "import pandas as pd\n",
    "\n",
    "df = pd.DataFrame({\n",
    "    '이름': ['철수', '영희', '민수', '지수'],\n",
    "    '점수': [90, None, 85, 88]\n",
    "})\n",
    "\n",
    "print(\"원본 데이터:\")\n",
    "print(df)\n",
    "\n",
    "# NaN 값을 0으로 채우기\n",
    "df_filled = df.fillna(0)\n",
    "print(\"\\nNaN을 0으로 대체한 데이터:\")\n",
    "print(df_filled)\n",
    "\n",
    "# 출력 결과:\n",
    "#\n",
    "# 원본 데이터:\n",
    "#    이름    점수\n",
    "# 0  철수  90.0\n",
    "# 1  영희   NaN\n",
    "# 2  민수  85.0\n",
    "# 3  지수  88.0\n",
    "#\n",
    "# NaN을 0으로 대체한 데이터:\n",
    "#    이름   점수\n",
    "# 0  철수  90.0\n",
    "# 1  영희   0.0\n",
    "# 2  민수  85.0\n",
    "# 3  지수  88.0\n",
    "#\n",
    "# 📌 실무 활용\n",
    "#\n",
    "# 데이터 누락 처리\n",
    "#\n",
    "# 설문조사 데이터에서 미응답 값 채우기"
   ],
   "id": "b786b606d6f59a3",
   "outputs": [
    {
     "name": "stdout",
     "output_type": "stream",
     "text": [
      "원본 데이터:\n",
      "   이름    점수\n",
      "0  철수  90.0\n",
      "1  영희   NaN\n",
      "2  민수  85.0\n",
      "3  지수  88.0\n",
      "\n",
      "NaN을 0으로 대체한 데이터:\n",
      "   이름    점수\n",
      "0  철수  90.0\n",
      "1  영희   0.0\n",
      "2  민수  85.0\n",
      "3  지수  88.0\n"
     ]
    }
   ],
   "execution_count": 13
  },
  {
   "metadata": {
    "ExecuteTime": {
     "end_time": "2025-09-04T05:35:53.417828Z",
     "start_time": "2025-09-04T05:35:53.407883Z"
    }
   },
   "cell_type": "code",
   "source": [
    "# ✅ 9 ️⃣ 정렬\n",
    "#\n",
    "# 특정 열 기준 정렬\n",
    "#\n",
    "# 📌 문법\n",
    "#\n",
    "# df.sort_values(by='열이름', ascending=True)\n",
    "#\n",
    "# 📌 예제\n",
    "\n",
    "df = pd.DataFrame({\n",
    "    '상품명': ['A', 'B', 'C', 'D'],\n",
    "    '가격': [5000, 2000, 8000, 6000]\n",
    "})\n",
    "\n",
    "# 가격을 기준으로 오름차순 정렬\n",
    "df_sorted = df.sort_values(by='가격', ascending=True)\n",
    "print(df_sorted)\n",
    "\n",
    "# 출력 결과:\n",
    "#\n",
    "#   상품명    가격\n",
    "# 1    B  2000\n",
    "# 0    A  5000\n",
    "# 3    D  6000\n",
    "# 2    C  8000\n",
    "#\n",
    "# 📌 실무 활용\n",
    "#\n",
    "# 상품 평점 순위 매기기\n",
    "#\n",
    "# 판매량 기준으로 제품 정렬"
   ],
   "id": "2dc3ae591ea8a325",
   "outputs": [
    {
     "name": "stdout",
     "output_type": "stream",
     "text": [
      "  상품명    가격\n",
      "3   D  6000\n",
      "2   C  8000\n",
      "1   B  2000\n",
      "0   A  5000\n"
     ]
    }
   ],
   "execution_count": 15
  },
  {
   "metadata": {
    "ExecuteTime": {
     "end_time": "2025-09-04T05:54:39.047110Z",
     "start_time": "2025-09-04T05:54:39.040481Z"
    }
   },
   "cell_type": "code",
   "source": [
    "# ✅ 🔟 그룹화(Groupby) 사용법\n",
    "#\n",
    "# 특정 열을 기준으로 데이터를 그룹화할 수 있습니다.\n",
    "#\n",
    "# 📌 문법\n",
    "#\n",
    "# df.groupby('열이름').집계함수()\n",
    "# groupby('열이름') : 특정 열을 기준으로 그룹화\n",
    "# 집계 함수 (sum(), mean(), count(), max(), min() 등) : 그룹별로 연산 수행\n",
    "#\n",
    "# 📌 예제\n",
    "\n",
    "import pandas as pd\n",
    "\n",
    "df = pd.DataFrame({\n",
    "    '카테고리': ['과일', '과일', '음료', '음료', '과일'],\n",
    "    '상품명': ['사과', '바나나', '콜라', '주스', '포도'],\n",
    "    '가격': [3000, 2000, 1500, 2500, 4000]\n",
    "})\n",
    "\n",
    "# 카테고리별 가격 합계 계산\n",
    "df_grouped = df.groupby('카테고리')['가격'].sum()\n",
    "print(df_grouped)\n",
    "\n",
    "# 📌 출력 결과\n",
    "#\n",
    "# yaml\n",
    "#\n",
    "# 카테고리\n",
    "# 과일    9000\n",
    "# 음료    4000\n",
    "# Name: 가격, dtype: int64\n",
    "#\n",
    "# 📌 다중 집계 함수 사용 (agg)\n",
    "\n",
    "df_grouped = df.groupby('카테고리')['가격'].agg(['sum', 'mean', 'max'])\n",
    "print(df_grouped)\n",
    "\n",
    "# 📌 출력 결과\n",
    "# yaml\n",
    "#          sum    mean  max\n",
    "# 카테고리\n",
    "# 과일     9000  3000.0  4000\n",
    "# 음료     4000  2000.0  2500\n",
    "#\n",
    "# 📌 그룹별 개수 세기\n",
    "\n",
    "df_grouped = df.groupby('카테고리')['상품명'].count()\n",
    "print(df_grouped)\n",
    "\n",
    "# 📌 출력 결과\n",
    "#\n",
    "# yaml\n",
    "#\n",
    "# 카테고리\n",
    "# 과일    3\n",
    "# 음료    2\n",
    "# Name: 상품명, dtype: int64\n",
    "# 이처럼 groupby()를 활용하면 데이터 분석을 쉽게 수행할 수 있습니다! 🚀"
   ],
   "id": "a51989ecf49e66f1",
   "outputs": [
    {
     "name": "stdout",
     "output_type": "stream",
     "text": [
      "카테고리\n",
      "과일    9000\n",
      "음료    4000\n",
      "Name: 가격, dtype: int64\n",
      "       sum    mean   max\n",
      "카테고리                    \n",
      "과일    9000  3000.0  4000\n",
      "음료    4000  2000.0  2500\n",
      "카테고리\n",
      "과일    3\n",
      "음료    2\n",
      "Name: 상품명, dtype: int64\n"
     ]
    }
   ],
   "execution_count": 9
  },
  {
   "metadata": {
    "ExecuteTime": {
     "end_time": "2025-09-04T05:54:42.629622Z",
     "start_time": "2025-09-04T05:54:42.623127Z"
    }
   },
   "cell_type": "code",
   "source": [
    "# ✅ 🔟-2 CSV 저장/읽기\n",
    "#\n",
    "# 데이터 파일 입출력\n",
    "#\n",
    "# 📌 문법\n",
    "#\n",
    "# df.to_csv(\"파일이름.csv\", index=False)\n",
    "# df = pd.read_csv(\"파일이름.csv\")\n",
    "#\n",
    "# 📌 예제\n",
    "print(df)\n",
    "df.to_csv(\"상품목록.csv\", index=False)\n",
    "print(\"CSV 파일로 저장 완료\")\n",
    "\n",
    "# CSV 파일 읽기\n",
    "df_loaded = pd.read_csv(\"상품목록.csv\")\n",
    "print(df_loaded)\n",
    "\n",
    "# 📌 실무 활용\n",
    "#\n",
    "# 보고서 생성\n",
    "#\n",
    "# 매출 데이터 저장 및 불러오기"
   ],
   "id": "cfb778bcdc6e0cb8",
   "outputs": [
    {
     "name": "stdout",
     "output_type": "stream",
     "text": [
      "  카테고리  상품명    가격\n",
      "0   과일   사과  3000\n",
      "1   과일  바나나  2000\n",
      "2   음료   콜라  1500\n",
      "3   음료   주스  2500\n",
      "4   과일   포도  4000\n",
      "CSV 파일로 저장 완료\n",
      "  카테고리  상품명    가격\n",
      "0   과일   사과  3000\n",
      "1   과일  바나나  2000\n",
      "2   음료   콜라  1500\n",
      "3   음료   주스  2500\n",
      "4   과일   포도  4000\n"
     ]
    }
   ],
   "execution_count": 10
  }
 ],
 "metadata": {
  "kernelspec": {
   "display_name": "Python 3",
   "language": "python",
   "name": "python3"
  },
  "language_info": {
   "codemirror_mode": {
    "name": "ipython",
    "version": 2
   },
   "file_extension": ".py",
   "mimetype": "text/x-python",
   "name": "python",
   "nbconvert_exporter": "python",
   "pygments_lexer": "ipython2",
   "version": "2.7.6"
  }
 },
 "nbformat": 4,
 "nbformat_minor": 5
}
