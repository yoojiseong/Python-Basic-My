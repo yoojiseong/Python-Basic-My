{
 "cells": [
  {
   "cell_type": "code",
   "execution_count": null,
   "id": "initial_id",
   "metadata": {
    "collapsed": true
   },
   "outputs": [],
   "source": [
    "# 리스트 컴프리헨션 (List Comprehension)\n",
    "#\n",
    "# ✅ 개념 및 정의\n",
    "# 리스트 컴프리헨션(List Comprehension)은\n",
    "# 한 줄의 코드로 리스트를 생성하는 문법입니다.\n",
    "#\n",
    "# 기존 for 루프를 사용하는 방식보다 더 간결하고\n",
    "# 빠른 코드 작성이 가능합니다.\n",
    "# 기존 for문 방식\n",
    "squares = []\n",
    "for x in range(1, 6):\n",
    "    squares.append(x**2)\n",
    "\n",
    "print(squares)  # [1, 4, 9, 16, 25]\n",
    "\n",
    "# 리스트 컴프리헨션 방식\n",
    "squares = [x**2 for x in range(1, 6)]\n",
    "print(squares)  # [1, 4, 9, 16, 25]"
   ]
  },
  {
   "metadata": {},
   "cell_type": "code",
   "outputs": [],
   "execution_count": null,
   "source": [
    "# 조건문 이 포함된\n",
    "# 기본 문법\n",
    "# new_list = [표현식 for 항목 in 반복_가능한_객체 if 조건문]\n",
    "even_squares = []\n",
    "for i in range(1, 11):\n",
    "    if i % 2 == 0:  # 짝수인지 확인\n",
    "        even_squares.append(i * i)\n",
    "print(f\"기존 반복문이용해서 출력 : {even_squares}\")\n",
    "\n",
    "# 리스트 컴프리헨션으로 표현시.\n",
    "even_squares = [x * x for x in range(1, 11) if x % 2 == 0]\n",
    "print(f\"리스트 컴프리헨션 이용해서 출력 : {even_squares}\")\n",
    "# 결과: [4, 16, 36, 64, 100]"
   ],
   "id": "5e641c5190c000a7"
  },
  {
   "metadata": {
    "ExecuteTime": {
     "end_time": "2025-09-03T01:44:16.229748Z",
     "start_time": "2025-09-03T01:44:16.223904Z"
    }
   },
   "cell_type": "code",
   "source": [
    "# 이중 반복문에서 , 리스트 컴프리헨션\n",
    "# 원래 구조\n",
    "# for x in iterable1:      # 바깥쪽 루프\n",
    "#     for y in iterable2:  # 안쪽 루프\n",
    "#         new_list.append(표현식)\n",
    "# 기본 문법\n",
    "# new_list = [표현식 for x in iterable1 for y in iterable2]\n",
    "# 기본예시,\n",
    "matrix = [[1, 2, 3],\n",
    "          [4, 5, 6],\n",
    "          [7, 8, 9]]\n",
    "flattened_list = []\n",
    "\n",
    "for row in matrix:           # 바깥쪽 루프\n",
    "    for element in row:      # 안쪽 루프\n",
    "        flattened_list.append(element)\n",
    "\n",
    "print(flattened_list)\n",
    "# 결과: [1, 2, 3, 4, 5, 6, 7, 8, 9]\n",
    "\n",
    "#  리스트 컴프리헨션\n",
    "matrix = [[1, 2, 3],\n",
    "          [4, 5, 6],\n",
    "          [7, 8, 9]]\n",
    "\n",
    "flattened_list = [element for row in matrix for element in row]\n",
    "\n",
    "print(flattened_list)\n",
    "# 결과: [1, 2, 3, 4, 5, 6, 7, 8, 9]\n",
    "\n",
    "#"
   ],
   "id": "af0d0e90c81d104a",
   "outputs": [
    {
     "name": "stdout",
     "output_type": "stream",
     "text": [
      "[1, 2, 3, 4, 5, 6, 7, 8, 9]\n",
      "[1, 2, 3, 4, 5, 6, 7, 8, 9]\n"
     ]
    }
   ],
   "execution_count": 3
  },
  {
   "metadata": {},
   "cell_type": "code",
   "outputs": [],
   "execution_count": null,
   "source": [
    "#예시2\n",
    "colors = ['빨강', '파랑']\n",
    "sizes = ['S', 'M', 'L']\n",
    "\n",
    "combinations = [(color, size) for color in colors for size in sizes]\n",
    "\n",
    "print(combinations)\n",
    "# 결과: [('빨강', 'S'), ('빨강', 'M'), ('빨강', 'L'), ('파랑', 'S'), ('파랑', 'M'), ('파랑', 'L')]"
   ],
   "id": "8c88eb2ee59cf2d0"
  },
  {
   "metadata": {
    "ExecuteTime": {
     "end_time": "2025-09-03T01:39:47.636072Z",
     "start_time": "2025-09-03T01:39:47.631425Z"
    }
   },
   "cell_type": "code",
   "source": [
    "# 2차원 리스트에서\n",
    "# 기본 문법\n",
    "# 전\n",
    "matrix = []\n",
    "# 바깥쪽 루프 (행을 제어)\n",
    "for i in range(3):\n",
    "    row = []\n",
    "    # 안쪽 루프 (각 행의 열을 제어)\n",
    "    for j in range(4):\n",
    "        row.append(0)\n",
    "    matrix.append(row)\n",
    "# 후\n",
    "# [[안쪽 컴프리헨션] for 바깥쪽 루프]\n",
    "matrix = [[0 for j in range(4)] for i in range(3)]\n",
    "print(matrix)"
   ],
   "id": "108438fa5f3d4735",
   "outputs": [
    {
     "name": "stdout",
     "output_type": "stream",
     "text": [
      "[[0, 0, 0, 0], [0, 0, 0, 0], [0, 0, 0, 0]]\n"
     ]
    }
   ],
   "execution_count": 1
  },
  {
   "metadata": {
    "ExecuteTime": {
     "end_time": "2025-09-03T02:41:44.194066Z",
     "start_time": "2025-09-03T02:41:42.426263Z"
    }
   },
   "cell_type": "code",
   "source": [
    "import time\n",
    "\n",
    "# 처리할 데이터 크기, _ 언더 스코어는  큰 숫자의 자릿수의 가독성 표현,\n",
    "# 1000,000\n",
    "NUM_ELEMENTS = 10_000_000  #10000000\n",
    "\n",
    "# 1. 일반적인 for문 사용\n",
    "start_time = time.time()\n",
    "result_for_loop = []\n",
    "for i in range(NUM_ELEMENTS):\n",
    "    result_for_loop.append(i * i)\n",
    "end_time = time.time()\n",
    "\n",
    "print(f\"일반 for문 실행 시간: {end_time - start_time:.5f}초\")\n",
    "\n",
    "\n",
    "# 2. 리스트 컴프리헨션 사용\n",
    "start_time = time.time()\n",
    "result_comprehension = [i * i for i in range(NUM_ELEMENTS)]\n",
    "end_time = time.time()\n",
    "\n",
    "print(f\"리스트 컴프리헨션 실행 시간: {end_time - start_time:.5f}초\")"
   ],
   "id": "9f1865de25c0060c",
   "outputs": [
    {
     "name": "stdout",
     "output_type": "stream",
     "text": [
      "일반 for문 실행 시간: 1.16356초\n",
      "리스트 컴프리헨션 실행 시간: 0.59887초\n"
     ]
    }
   ],
   "execution_count": 5
  },
  {
   "metadata": {
    "ExecuteTime": {
     "end_time": "2025-09-03T02:42:40.119848Z",
     "start_time": "2025-09-03T02:42:40.116361Z"
    }
   },
   "cell_type": "code",
   "source": [
    "# enumerate() :\n",
    "# 개념 및 정의\n",
    "# enumerate()는 리스트나 튜플과 같은 반복 가능한 객체를 순회할 때,\n",
    "# 인덱스와 값을 동시에 가져올 수 있는 함수입니다.\n",
    "\n",
    "#예시\n",
    "fruits = [\"사과\", \"바나나\", \"체리\"]\n",
    "\n",
    "for index, fruit in enumerate(fruits):\n",
    "    print(f\"인덱스 {index}: {fruit}\")"
   ],
   "id": "ff66e4376d1e079e",
   "outputs": [
    {
     "name": "stdout",
     "output_type": "stream",
     "text": [
      "인덱스 0: 사과\n",
      "인덱스 1: 바나나\n",
      "인덱스 2: 체리\n"
     ]
    }
   ],
   "execution_count": 6
  },
  {
   "metadata": {
    "ExecuteTime": {
     "end_time": "2025-09-03T02:44:12.695030Z",
     "start_time": "2025-09-03T02:44:12.690557Z"
    }
   },
   "cell_type": "code",
   "source": [
    "#zip\n",
    "# 파이썬의 내장 함수인 zip()은\n",
    "# 여러 개의 반복 가능한(iterable) 객체들을 받아,\n",
    "# 각 객체에서 동일한 인덱스의 요소들을 하나씩 짝지어\n",
    "# 튜플(tuple)로 묶어주는 역할을 합니다.\n",
    "\n",
    "# 주요 특징:\n",
    "#\n",
    "# 짝을 이룬 튜플 생성:\n",
    "# 여러 리스트의 0번째 요소들을 모아 하나의 튜플로,\n",
    "# 1번째 요소들을 모아 또 다른 튜플로 만듭니다.\n",
    "#\n",
    "# 짧은 쪽 기준:\n",
    "# 전달된 리스트들의 길이가 다를 경우,\n",
    "# 가장 짧은 리스트의 길이를 기준으로 짝을 짓고\n",
    "# 나머지 긴 쪽의 요소들은 무시됩니다.\n",
    "#\n",
    "# zip 객체 반환: zip() 함수는\n",
    "# 결과를 리스트가 아닌 zip 객체(iterator)로 반환합니다.\n",
    "# 따라서 결과를 직접 확인하려면\n",
    "# list()나 tuple() 함수를 사용해 변환하거나 for문으로 순회해야 합니다.\n",
    "\n",
    "# 기본 문법\n",
    "# zip(iterable1, iterable2, ...)\n",
    "\n",
    "#예시\n",
    "names = [\"철수\", \"영희\", \"민수\"]\n",
    "scores = [85, 90, 78]\n",
    "\n",
    "for name, score in zip(names, scores):\n",
    "    print(f\"{name}의 점수: {score}\")"
   ],
   "id": "3081942d95f83b60",
   "outputs": [
    {
     "name": "stdout",
     "output_type": "stream",
     "text": [
      "철수의 점수: 85\n",
      "영희의 점수: 90\n",
      "민수의 점수: 78\n"
     ]
    }
   ],
   "execution_count": 7
  },
  {
   "metadata": {
    "ExecuteTime": {
     "end_time": "2025-09-03T03:23:02.756617Z",
     "start_time": "2025-09-03T03:23:02.753140Z"
    }
   },
   "cell_type": "code",
   "source": [
    "# 예시 2: 길이가 다른 리스트 묶기\n",
    "# zip() 함수가\n",
    "# 가장 짧은 리스트를 기준으로\n",
    "# 동작하는 것을 확인할 수 있습니다.\n",
    "\n",
    "names = ['Alice', 'Bob', 'Charlie', 'David'] # 4개 요소\n",
    "ages = [25, 30, 35]                          # 3개 요소\n",
    "\n",
    "zipped_info = zip(names, ages)\n",
    "\n",
    "print(list(zipped_info))"
   ],
   "id": "ec46ce7f409154a7",
   "outputs": [
    {
     "name": "stdout",
     "output_type": "stream",
     "text": [
      "[('Alice', 25), ('Bob', 30), ('Charlie', 35)]\n"
     ]
    }
   ],
   "execution_count": 8
  },
  {
   "metadata": {
    "ExecuteTime": {
     "end_time": "2025-09-03T02:35:19.887951Z",
     "start_time": "2025-09-03T02:35:19.883650Z"
    }
   },
   "cell_type": "code",
   "source": [
    "#예시3\n",
    "#묶인 데이터 다시 풀기 (Unzipping)\n",
    "# zip()과 별표(*)를 함께 사용하면\n",
    "# 묶여있는 데이터를 다시 원래대로\n",
    "# 여러 개의 튜플로 분리할 수 있습니다.\n",
    "\n",
    "student_scores = [('철수', 88), ('영희', 92), ('민준', 76)]\n",
    "\n",
    "# zip과 *를 사용해 unzip, 압축 해제\n",
    "students, scores = zip(*student_scores)\n",
    "\n",
    "print(\"학생들:\", students)\n",
    "print(\"점수들:\", scores)\n",
    "\n",
    "students = list(students)\n",
    "scores = list(scores)\n",
    "\n",
    "# 재압축\n",
    "for student, score in zip(students, scores):\n",
    "    print(f\"재압축 , 학생 : {student}, 점수: {scores}\")"
   ],
   "id": "2363bff9ee8b00a3",
   "outputs": [
    {
     "name": "stdout",
     "output_type": "stream",
     "text": [
      "학생들: ('철수', '영희', '민준')\n",
      "점수들: (88, 92, 76)\n",
      "재압축 , 학생 : 철수, 점수: [88, 92, 76]\n",
      "재압축 , 학생 : 영희, 점수: [88, 92, 76]\n",
      "재압축 , 학생 : 민준, 점수: [88, 92, 76]\n"
     ]
    }
   ],
   "execution_count": 4
  },
  {
   "metadata": {},
   "cell_type": "code",
   "outputs": [],
   "execution_count": null,
   "source": [
    "# 파이썬의 람다(Lambda) 함수는\n",
    "# 이름이 없는 작은 **익명 함수(anonymous function)**를 만드는 방법입니다.\n",
    "# def 키워드로 만드는 일반적인 함수와 달리,\n",
    "# 한 줄짜리 간단한 기능을 수행할 때 코드를 간결하게 작성하기 위해 사용됩니다.\n",
    "\n",
    "# 기본 문법 모양\n",
    "# lambda 인자1, 인자2, ... : 표현식\n",
    "\n",
    "# 기본 개념 및 설명\n",
    "# 일반 함수는 def를 사용하여 이름을 지정하고\n",
    "# 여러 줄에 걸쳐 복잡한 코드를 작성할 수 있습니다.\n",
    "# 반면, 람다 함수는 다음과 같은 특징을 가집니다.\n",
    "#\n",
    "# 이름이 없음 (Anonymous):\n",
    "# 특정 이름을 갖지 않으며,\n",
    "# 보통 변수에 할당하거나 다른 함수의 인자로 즉시 전달하는 형태로 사용됩니다.\n",
    "#\n",
    "# 한 줄 표현식 (Single Expression):\n",
    "# 람다 함수의 몸체는 단 하나의 표현식으로만 구성됩니다.\n",
    "# 이 표현식의 결과가 자동으로 반환(return)됩니다.\n",
    "#\n",
    "# 일회성 및 간결함:\n",
    "# 코드를 짧고 간결하게 유지하고 싶을 때,\n",
    "# 특히 map(), filter(), sorted()와 같이 함수를 인자로\n",
    "# 받는 함수와 함께 사용할 때 매우 유용합니다.\n",
    "\n",
    "#기본 예시1\n",
    "# 일반 함수\n",
    "def add(x, y):\n",
    "    return x + y\n",
    "\n",
    "# 람다 함수\n",
    "add_lambda = lambda x, y: x + y\n",
    "\n",
    "# 두 함수의 사용법과 결과는 동일합니다.\n",
    "print(add(3, 5))          # 결과: 8\n",
    "print(add_lambda(3, 5))   # 결과: 8"
   ],
   "id": "fc0f905dbdac7410"
  },
  {
   "metadata": {
    "ExecuteTime": {
     "end_time": "2025-09-03T03:25:29.229719Z",
     "start_time": "2025-09-03T03:25:29.226101Z"
    }
   },
   "cell_type": "code",
   "source": [
    "# 활용 예시1\n",
    "# map()\n",
    "# map()은 리스트의 각 요소에 특정 함수를 적용해주는 함수입니다.\n",
    "numbers = [1, 2, 3, 4, 5]\n",
    "\n",
    "# 리스트의 각 요소를 제곱하기\n",
    "# def square(x):\n",
    "#     return x * x\n",
    "# squared_numbers = list(map(square, numbers))\n",
    "\n",
    "# 람다 함수를 사용하여 한 줄로 표현\n",
    "squared_numbers = list(map(lambda x: x * x, numbers))\n",
    "\n",
    "print(squared_numbers)"
   ],
   "id": "3fa369fc43af9b6b",
   "outputs": [
    {
     "name": "stdout",
     "output_type": "stream",
     "text": [
      "[1, 4, 9, 16, 25]\n"
     ]
    }
   ],
   "execution_count": 9
  },
  {
   "metadata": {},
   "cell_type": "code",
   "outputs": [],
   "execution_count": null,
   "source": [
    "# 활용 예시2\n",
    "# filter()\n",
    "# filter()는 리스트의 각 요소에 함수를 적용하여\n",
    "# 결과가 True인 것들만 모아주는 함수입니다.\n",
    "numbers = [1, 2, 3, 4, 5, 6, 7, 8, 9, 10]\n",
    "\n",
    "# 리스트에서 짝수만 골라내기\n",
    "even_numbers = list(filter(lambda x: x % 2 == 0, numbers))\n",
    "\n",
    "print(even_numbers)"
   ],
   "id": "e615b52178860977"
  },
  {
   "metadata": {
    "ExecuteTime": {
     "end_time": "2025-09-03T03:26:24.286279Z",
     "start_time": "2025-09-03T03:26:24.282248Z"
    }
   },
   "cell_type": "code",
   "source": [
    "# 활용 예시3\n",
    "# sorted()\n",
    "# sorted()는 리스트를 정렬하는 함수이며,\n",
    "# key 인자를 통해 정렬 기준을 지정할 수 있습니다.\n",
    "students = [('철수', 88), ('민준', 95), ('영희', 76)]\n",
    "\n",
    "# 학생들을 점수(튜플의 두 번째 요소) 기준으로 오름차순 정렬\n",
    "sorted_by_score = sorted(students, key=lambda student: student[1])\n",
    "\n",
    "print(sorted_by_score)"
   ],
   "id": "583babfba8383620",
   "outputs": [
    {
     "name": "stdout",
     "output_type": "stream",
     "text": [
      "[('영희', 76), ('철수', 88), ('민준', 95)]\n"
     ]
    }
   ],
   "execution_count": 10
  }
 ],
 "metadata": {
  "kernelspec": {
   "display_name": "Python 3",
   "language": "python",
   "name": "python3"
  },
  "language_info": {
   "codemirror_mode": {
    "name": "ipython",
    "version": 2
   },
   "file_extension": ".py",
   "mimetype": "text/x-python",
   "name": "python",
   "nbconvert_exporter": "python",
   "pygments_lexer": "ipython2",
   "version": "2.7.6"
  }
 },
 "nbformat": 4,
 "nbformat_minor": 5
}
