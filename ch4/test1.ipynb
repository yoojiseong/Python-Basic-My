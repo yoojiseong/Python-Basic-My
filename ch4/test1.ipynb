{
 "cells": [
  {
   "metadata": {
    "ExecuteTime": {
     "end_time": "2025-09-02T02:44:36.576799Z",
     "start_time": "2025-09-02T02:44:34.337655Z"
    }
   },
   "cell_type": "code",
   "source": [
    "# list 를 함수, push(), pop() 이용해서, 스택처럼 사용해보기.\n",
    "word = input(\"문자열 입력해주세요: \")\n",
    "# input 함수 이용해서, 문자열 받고 , 다시, 문자열 -> 리스로 변환: list() 함수.\n",
    "word_list = list(word)\n",
    "print(f\"word_list : {word_list}\")\n",
    "\n",
    "# 임시로 저장할 빈 리스트, 참고로 전역.\n",
    "result = []\n",
    "# len 함수는 크기를 반환하는 함수.\n",
    "# word_list , pop() 함수로 꺼내서, result 임시 리스트에 담기. 반복문.\n",
    "for _ in range(len(word_list)):\n",
    "  result.append(word_list.pop(0))\n",
    "\n",
    "# 스택의 자료구조 형식을 이용해서 역순 출력\n",
    "print(f\"result 조회 해보기 : {result}\")\n",
    "# 단순, 슬라이싱을 이용해서, 역순 출력.\n",
    "print(f\"word 조회 해보기. [::-1] : {word[::-1]}\")"
   ],
   "id": "5067d268a84960bf",
   "outputs": [
    {
     "name": "stdout",
     "output_type": "stream",
     "text": [
      "word_list : ['ㅇ', 'ㄴ', 'ㄹ', 'ㅇ', 'ㄴ', 'ㄹ']\n",
      "result 조회 해보기 : ['ㅇ', 'ㄴ', 'ㄹ', 'ㅇ', 'ㄴ', 'ㄹ']\n",
      "word 조회 해보기. [::-1] : ㄹㄴㅇㄹㄴㅇ\n"
     ]
    }
   ],
   "execution_count": 4
  },
  {
   "metadata": {},
   "cell_type": "code",
   "outputs": [],
   "execution_count": null,
   "source": [
    "# 세트 , 집합 , 1) 중복 불가 2) 집합 연산이 가능. 3) 순서 없음.\n",
    "# 리스트, 세트 간의 타입 변환이 자유롭다.\n",
    "a = [1, 1, 2, 2, 3, 3]\n",
    "b = set(a)\n",
    "print(b)\n",
    "print(type(b))\n",
    "c = list(b)\n",
    "print(c)\n",
    "print(type(c))\n",
    "d = tuple(c)\n",
    "print(d)\n",
    "print(type(d))"
   ],
   "id": "d7f573c820a3b3f1"
  },
  {
   "metadata": {},
   "cell_type": "code",
   "outputs": [],
   "execution_count": null,
   "source": [
    "dic1 = {\"a\" :1, \"b\":2, \"c\": [100,200,300]}\n",
    "print(dic1[\"a\"])\n",
    "print(dic1[\"b\"])\n",
    "print(dic1[\"c\"])\n",
    "dic1[\"a\"] = 100\n",
    "print(dic1[\"a\"])\n",
    "dic1[\"d\"] = 1000\n",
    "print(dic1[\"d\"])\n",
    "print(dic1.keys())\n",
    "print(dic1.values())\n",
    "print(dic1.items())\n",
    "\n",
    "# 반복자 패턴,\n",
    "for k, v in dic1.items():\n",
    "    print(f\"키 : {k}, 값 : {v}\")\n"
   ],
   "id": "845d05041c01849d"
  },
  {
   "metadata": {
    "ExecuteTime": {
     "end_time": "2025-09-02T04:59:08.316813Z",
     "start_time": "2025-09-02T04:59:08.308922Z"
    }
   },
   "cell_type": "code",
   "source": [
    "from collections import deque\n",
    "\n",
    "deque_list = deque()\n",
    "\n",
    " # 0 ~ 4, range(시작,끝, 증가값), 끝값은 미포함\n",
    "for i in range(5):\n",
    "  deque_list.append(i)\n",
    "print(f\"deque_list 출력 : {deque_list}\")\n",
    "\n",
    "# 스택처럼 하나씩 뒤에 값부터 4 꺼내기. pop() 이용\n",
    "deque_list.pop()\n",
    "print(f\"deque_list 출력 : {deque_list}\")\n",
    "\n",
    "# 스택처럼 하나씩 뒤에 값부터 3 꺼내기. pop() 이용\n",
    "deque_list.pop()\n",
    "print(f\"deque_list 출력 : {deque_list}\")"
   ],
   "id": "3762876626b86cb1",
   "outputs": [
    {
     "name": "stdout",
     "output_type": "stream",
     "text": [
      "deque_list 출력 : deque([0, 1, 2, 3, 4])\n",
      "deque_list 출력 : deque([0, 1, 2, 3])\n",
      "deque_list 출력 : deque([0, 1, 2])\n"
     ]
    }
   ],
   "execution_count": 7
  },
  {
   "metadata": {
    "ExecuteTime": {
     "end_time": "2025-09-02T05:04:36.553384Z",
     "start_time": "2025-09-02T05:04:36.548019Z"
    }
   },
   "cell_type": "code",
   "source": [
    "#deque , 각 요소의 다음 요소의 메모리 위치 주소값을 알고 있다.\n",
    "# 마지막 요소는 , 맨 처음 요소의 메모리 위치 주소값을 알고 있다.\n",
    "# 결론, 처음과 끝이 연결이 된구조가 되고, 이것을 이용해서,\n",
    "# 각 요소를 순회 시킬수 있다.\n",
    "# rotate() 함수를 이용해서, 각 요소를 이동이 가능하다.\n",
    "#deque , 큐처럼 사용하기, appendleft() 함수 이용하기.\n",
    "# 왼쪽부터 입력하게 해서, 들어간 값부터 출력하기. FIFO\n",
    "from collections import deque\n",
    "\n",
    "deque_list = deque()\n",
    "\n",
    " # 0 ~ 4, range(시작,끝, 증가값), 끝값은 미포함\n",
    "for i in range(5):\n",
    "  deque_list.appendleft(i)\n",
    "# 기존에 append 로 추가시, 오른쪽으로 추가했음.\n",
    "# [ 0,1,2,3,4]\n",
    "print(f\"deque_list 출력 : {deque_list}\")\n",
    "# deque_list 출력 : deque([4, 3, 2, 1, 0])\n",
    "\n",
    "# rotate() 함수 이용\n",
    "# 2칸 이동해보기.\n",
    "deque_list.rotate(2)\n",
    "print(f\"deque_list 출력 : {deque_list}\")"
   ],
   "id": "bdcdd09181a84f33",
   "outputs": [
    {
     "name": "stdout",
     "output_type": "stream",
     "text": [
      "deque_list 출력 : deque([4, 3, 2, 1, 0])\n",
      "deque_list 출력 : deque([1, 0, 4, 3, 2])\n"
     ]
    }
   ],
   "execution_count": 8
  },
  {
   "metadata": {},
   "cell_type": "code",
   "outputs": [],
   "execution_count": null,
   "source": [
    "# reversed() 확인.\n",
    "from collections import deque\n",
    "\n",
    "deque_list = deque()\n",
    "\n",
    " # 0 ~ 4, range(시작,끝, 증가값), 끝값은 미포함\n",
    "for i in range(5):\n",
    "  deque_list.appendleft(i)\n",
    "# 기존에 append 로 추가시, 오른쪽으로 추가했음.\n",
    "# [ 0,1,2,3,4]\n",
    "print(f\"deque_list 출력 : {deque_list}\")\n",
    "# deque_list 출력 : deque([4, 3, 2, 1, 0])\n",
    "deque_list_reversed = deque(reversed(deque_list))\n",
    "print(f\"deque_list 출력 : {deque_list_reversed}\")"
   ],
   "id": "1a720b9ebca5c44e"
  },
  {
   "metadata": {},
   "cell_type": "code",
   "outputs": [],
   "execution_count": null,
   "source": [
    "d= {} # {} , 딕션너리 의미\n",
    "d[\"x\"] = 1\n",
    "d[\"b\"] = 2\n",
    "d[\"d\"] = 4\n",
    "d[\"c\"] = 3\n",
    "d[\"e\"] = 5\n",
    "\n",
    "for k,v in d.items():\n",
    "  print(f\"key : {k}, value : {v}\")"
   ],
   "id": "e56e69b72b48f066"
  },
  {
   "metadata": {
    "ExecuteTime": {
     "end_time": "2025-09-02T05:25:21.986680Z",
     "start_time": "2025-09-02T05:25:21.982278Z"
    }
   },
   "cell_type": "code",
   "source": [
    "# 정렬 해보기.\n",
    "# OrderdDict , 순서있는 딕션너리 이용하기.\n",
    "def sort_by_key(t):\n",
    "  return t[0]\n",
    "\n",
    "from collections import OrderedDict\n",
    "d= OrderedDict()\n",
    "d[\"x\"] = 1\n",
    "d[\"b\"] = 2\n",
    "d[\"d\"] = 4\n",
    "d[\"c\"] = 3\n",
    "d[\"e\"] = 5\n",
    "\n",
    "# key 정렬해보기.\n",
    "for k,v in OrderedDict(sorted(d.items(), key=sort_by_key)).items():\n",
    "  print(f\"key : {k}, value : {v}\")"
   ],
   "id": "7805a08183962fbe",
   "outputs": [
    {
     "name": "stdout",
     "output_type": "stream",
     "text": [
      "key : b, value : 2\n",
      "key : c, value : 3\n",
      "key : d, value : 4\n",
      "key : e, value : 5\n",
      "key : x, value : 1\n"
     ]
    }
   ],
   "execution_count": 15
  },
  {
   "metadata": {
    "ExecuteTime": {
     "end_time": "2025-09-02T05:33:44.516997Z",
     "start_time": "2025-09-02T05:33:44.508883Z"
    }
   },
   "cell_type": "code",
   "source": [
    "from collections import Counter\n",
    "f = open(\"yesterday.txt\",\"r\")\n",
    "yesterday_lyric = f.readlines()\n",
    "f.close()\n",
    "\n",
    "contents = \"\"\n",
    "for line in yesterday_lyric:\n",
    "    contents = contents + line.strip() + \"\\n\"\n",
    "print(contents)\n",
    "text = contents.lower().split()\n",
    "Counter(text)\n"
   ],
   "id": "25316639e3120473",
   "outputs": [
    {
     "name": "stdout",
     "output_type": "stream",
     "text": [
      "Yesterday\n",
      "All my troubles seemed so far away\n",
      "Now it looks as though they're here to stay\n",
      "Oh, I believe in yesterday\n",
      "\n",
      "Suddenly\n",
      "I'm not half the man I used to be\n",
      "There's a shadow hangin' over me\n",
      "Oh, yesterday came suddenly\n",
      "\n",
      "Why she had to go, I don't know, she wouldn't say\n",
      "I said something wrong, now I long for yesterday\n",
      "\n",
      "Yesterday\n",
      "Love was such an easy game to play\n",
      "Now I need a place to hide away\n",
      "Oh, I believe in yesterday\n",
      "\n",
      "Why she had to go, I don't know, she wouldn't say\n",
      "I said something wrong, now I long for yesterday\n",
      "\n",
      "Yesterday\n",
      "Love was such an easy game to play\n",
      "Now I need a place to hide away\n",
      "Oh, I believe in yesterday\n",
      "Mm mm mm mm mm mm mm\n",
      "\n"
     ]
    },
    {
     "data": {
      "text/plain": [
       "Counter({'i': 12,\n",
       "         'yesterday': 9,\n",
       "         'to': 8,\n",
       "         'mm': 7,\n",
       "         'now': 5,\n",
       "         'oh,': 4,\n",
       "         'she': 4,\n",
       "         'away': 3,\n",
       "         'believe': 3,\n",
       "         'in': 3,\n",
       "         'a': 3,\n",
       "         'suddenly': 2,\n",
       "         'why': 2,\n",
       "         'had': 2,\n",
       "         'go,': 2,\n",
       "         \"don't\": 2,\n",
       "         'know,': 2,\n",
       "         \"wouldn't\": 2,\n",
       "         'say': 2,\n",
       "         'said': 2,\n",
       "         'something': 2,\n",
       "         'wrong,': 2,\n",
       "         'long': 2,\n",
       "         'for': 2,\n",
       "         'love': 2,\n",
       "         'was': 2,\n",
       "         'such': 2,\n",
       "         'an': 2,\n",
       "         'easy': 2,\n",
       "         'game': 2,\n",
       "         'play': 2,\n",
       "         'need': 2,\n",
       "         'place': 2,\n",
       "         'hide': 2,\n",
       "         'all': 1,\n",
       "         'my': 1,\n",
       "         'troubles': 1,\n",
       "         'seemed': 1,\n",
       "         'so': 1,\n",
       "         'far': 1,\n",
       "         'it': 1,\n",
       "         'looks': 1,\n",
       "         'as': 1,\n",
       "         'though': 1,\n",
       "         \"they're\": 1,\n",
       "         'here': 1,\n",
       "         'stay': 1,\n",
       "         \"i'm\": 1,\n",
       "         'not': 1,\n",
       "         'half': 1,\n",
       "         'the': 1,\n",
       "         'man': 1,\n",
       "         'used': 1,\n",
       "         'be': 1,\n",
       "         \"there's\": 1,\n",
       "         'shadow': 1,\n",
       "         \"hangin'\": 1,\n",
       "         'over': 1,\n",
       "         'me': 1,\n",
       "         'came': 1})"
      ]
     },
     "execution_count": 18,
     "metadata": {},
     "output_type": "execute_result"
    }
   ],
   "execution_count": 18
  },
  {
   "metadata": {
    "ExecuteTime": {
     "end_time": "2025-09-02T06:03:00.416636Z",
     "start_time": "2025-09-02T06:03:00.412280Z"
    }
   },
   "cell_type": "code",
   "source": [
    "from collections import Counter\n",
    "\n",
    "# 각 매장의 재고\n",
    "store1_inventory = Counter({'사과': 5, '바나나': 10, '오렌지': 3})\n",
    "store2_inventory = Counter({'사과': 3, '바나나': 5, '포도': 7})\n",
    "\n",
    "# 두 매장의 총 재고 합산\n",
    "total_inventory = store1_inventory + store2_inventory\n",
    "\n",
    "print(total_inventory)"
   ],
   "id": "824a0f5ac7f105a0",
   "outputs": [
    {
     "name": "stdout",
     "output_type": "stream",
     "text": [
      "Counter({'바나나': 15, '사과': 8, '포도': 7, '오렌지': 3})\n"
     ]
    }
   ],
   "execution_count": 19
  }
 ],
 "metadata": {
  "kernelspec": {
   "name": "python3",
   "language": "python",
   "display_name": "Python 3 (ipykernel)"
  }
 },
 "nbformat": 4,
 "nbformat_minor": 5
}
