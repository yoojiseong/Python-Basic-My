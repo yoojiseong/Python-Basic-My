{
 "cells": [
  {
   "cell_type": "code",
   "id": "b77af017",
   "metadata": {
    "ExecuteTime": {
     "end_time": "2025-09-01T02:27:39.572416Z",
     "start_time": "2025-09-01T02:27:39.569371Z"
    }
   },
   "source": [
    "print(\"노트북으로 셀 단위로 화인\")"
   ],
   "outputs": [
    {
     "name": "stdout",
     "output_type": "stream",
     "text": [
      "노트북으로 셀 단위로 화인\n"
     ]
    }
   ],
   "execution_count": 10
  },
  {
   "metadata": {
    "ExecuteTime": {
     "end_time": "2025-09-01T02:27:39.623762Z",
     "start_time": "2025-09-01T02:27:39.619639Z"
    }
   },
   "cell_type": "code",
   "source": "print(\"작업중\")",
   "id": "8c39d446cc4896e4",
   "outputs": [
    {
     "name": "stdout",
     "output_type": "stream",
     "text": [
      "작업중\n"
     ]
    }
   ],
   "execution_count": 11
  },
  {
   "metadata": {
    "ExecuteTime": {
     "end_time": "2025-09-01T02:27:39.671351Z",
     "start_time": "2025-09-01T02:27:39.666587Z"
    }
   },
   "cell_type": "code",
   "source": [
    "a=int(10.3)\n",
    "print(a)\n",
    "b=float(a)\n",
    "print(b)"
   ],
   "id": "cddb33bbee4df5ab",
   "outputs": [
    {
     "name": "stdout",
     "output_type": "stream",
     "text": [
      "10\n",
      "10.0\n"
     ]
    }
   ],
   "execution_count": 12
  },
  {
   "metadata": {
    "ExecuteTime": {
     "end_time": "2025-09-01T02:30:41.154970Z",
     "start_time": "2025-09-01T02:30:41.151289Z"
    }
   },
   "cell_type": "code",
   "source": [
    "x = str(123)\n",
    "print(x)\n",
    "print(type(x))"
   ],
   "id": "bb0e72e73e1656bf",
   "outputs": [
    {
     "name": "stdout",
     "output_type": "stream",
     "text": [
      "123\n",
      "<class 'str'>\n"
     ]
    }
   ],
   "execution_count": 14
  },
  {
   "metadata": {
    "ExecuteTime": {
     "end_time": "2025-09-01T02:32:19.289733Z",
     "start_time": "2025-09-01T02:32:19.286342Z"
    }
   },
   "cell_type": "code",
   "source": [
    "print(1 == True)\n",
    "print(\"\" == False)"
   ],
   "id": "18ea614bb1e22da6",
   "outputs": [
    {
     "name": "stdout",
     "output_type": "stream",
     "text": [
      "True\n",
      "False\n"
     ]
    }
   ],
   "execution_count": 17
  },
  {
   "metadata": {
    "ExecuteTime": {
     "end_time": "2025-09-01T02:33:38.523765Z",
     "start_time": "2025-09-01T02:33:38.520230Z"
    }
   },
   "cell_type": "code",
   "source": [
    "a = '76.3'\n",
    "b = float(a)\n",
    "c = 2.3\n",
    "print(c+b)\n",
    "print(type(a))\n",
    "print(type(b))\n",
    "print(type(c))"
   ],
   "id": "df666ad153a20fbe",
   "outputs": [
    {
     "name": "stdout",
     "output_type": "stream",
     "text": [
      "78.6\n"
     ]
    }
   ],
   "execution_count": 22
  },
  {
   "metadata": {
    "ExecuteTime": {
     "end_time": "2025-09-01T02:38:41.576929Z",
     "start_time": "2025-09-01T02:38:41.573337Z"
    }
   },
   "cell_type": "code",
   "source": [
    "# 출력 방식\n",
    "a.extend(b)\n",
    "# 1. % 연산자 방식\n",
    "name = \"지성\"\n",
    "age = 24\n",
    "print(\"이름 : %s, 나이 : %d\" % (name , age))"
   ],
   "id": "d17d47e2c367557e",
   "outputs": [
    {
     "name": "stdout",
     "output_type": "stream",
     "text": [
      "이름 : 지성, 나이 : 24\n"
     ]
    }
   ],
   "execution_count": 24
  },
  {
   "metadata": {
    "ExecuteTime": {
     "end_time": "2025-09-01T02:46:04.254871Z",
     "start_time": "2025-09-01T02:46:04.250853Z"
    }
   },
   "cell_type": "code",
   "source": [
    "# f-string 형식(python 3.6 권장)\n",
    "name = \"지성\"\n",
    "age = 24\n",
    "print(f\"이름 : {name} , 나이 : {age}\")"
   ],
   "id": "c17ff975e3dc160",
   "outputs": [
    {
     "name": "stdout",
     "output_type": "stream",
     "text": [
      "이름 : 지성 , 나이 : 24\n"
     ]
    }
   ],
   "execution_count": 26
  },
  {
   "metadata": {
    "ExecuteTime": {
     "end_time": "2025-09-01T04:54:10.244990Z",
     "start_time": "2025-09-01T04:54:08.324115Z"
    }
   },
   "cell_type": "code",
   "source": [
    "print(\"오늘 점심 뭐 먹지\")\n",
    "lunch = input()\n",
    "print(f\"오늘 먹을 점심 메뉴 : {lunch}\")"
   ],
   "id": "120a7aefa7711649",
   "outputs": [
    {
     "name": "stdout",
     "output_type": "stream",
     "text": [
      "오늘 점심 뭐 먹지\n",
      "오늘 먹을 점심 메뉴 : ㅇㄴㄹ\n"
     ]
    }
   ],
   "execution_count": 34
  },
  {
   "metadata": {
    "ExecuteTime": {
     "end_time": "2025-09-01T06:07:14.302391Z",
     "start_time": "2025-09-01T06:07:12.948008Z"
    }
   },
   "cell_type": "code",
   "source": [
    "\n",
    "lunch = input(\"오늘 점심 뭐 먹지?\")\n",
    "print(f\"오늘 먹을 점심 메뉴 : {lunch}\")"
   ],
   "id": "4bda2fd1f6f63a3c",
   "outputs": [
    {
     "name": "stdout",
     "output_type": "stream",
     "text": [
      "오늘 먹을 점심 메뉴 : 1\n"
     ]
    }
   ],
   "execution_count": 46
  },
  {
   "metadata": {
    "ExecuteTime": {
     "end_time": "2025-09-01T05:07:07.046676Z",
     "start_time": "2025-09-01T05:07:07.042036Z"
    }
   },
   "cell_type": "code",
   "source": [
    "a = [1,2,3]\n",
    "b = [4,5,6]\n",
    "print(a)\n",
    "print(b)\n",
    "print(a[0:2])\n",
    "print(b[-2:0])\n",
    "a.append(100)\n",
    "print(a)\n",
    "print(a)\n",
    "print(c)\n",
    "\n"
   ],
   "id": "e8611046d465f68b",
   "outputs": [
    {
     "name": "stdout",
     "output_type": "stream",
     "text": [
      "[1, 2, 3]\n",
      "[4, 5, 6]\n",
      "[1, 2]\n",
      "[]\n",
      "[1, 2, 3, 100]\n",
      "[1, 2, 3, 100, 4, 5, 6]\n",
      "[1, 2, 3, 100, 4, 5, 6]\n"
     ]
    }
   ],
   "execution_count": 44
  }
 ],
 "metadata": {
  "kernelspec": {
   "display_name": "Python 3",
   "language": "python",
   "name": "python3"
  },
  "language_info": {
   "name": "python",
   "version": "3.13.7"
  }
 },
 "nbformat": 4,
 "nbformat_minor": 5
}
