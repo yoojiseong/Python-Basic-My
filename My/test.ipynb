{
 "cells": [
  {
   "metadata": {
    "ExecuteTime": {
     "end_time": "2025-09-02T03:03:51.439779Z",
     "start_time": "2025-09-02T03:03:46.334371Z"
    }
   },
   "cell_type": "code",
   "source": [
    "def lenghText(text):\n",
    "    return len(text)\n",
    "test = input(\"문자열을 입력하여 주세요\")\n",
    "print(f\"당신이 입력한 문자열의 길이는 : {lenghText(test)}\")\n"
   ],
   "id": "37fb945de8d53038",
   "outputs": [
    {
     "name": "stdout",
     "output_type": "stream",
     "text": [
      "당신이 입력한 문자열의 길이는 : 8\n"
     ]
    }
   ],
   "execution_count": 2
  },
  {
   "metadata": {
    "ExecuteTime": {
     "end_time": "2025-09-02T03:06:20.278551Z",
     "start_time": "2025-09-02T03:06:15.113344Z"
    }
   },
   "cell_type": "code",
   "source": [
    "def reversText(text):\n",
    "    return print(f\"문자열을 거꾸로 : {text[::-1]}\")\n",
    "text = input(\"문자열을 입력하여 주세요\")\n",
    "reversText(text)"
   ],
   "id": "f8059cf4435b5b5b",
   "outputs": [
    {
     "name": "stdout",
     "output_type": "stream",
     "text": [
      "문자열을 거꾸로 : 요세하녕안\n"
     ]
    }
   ],
   "execution_count": 3
  },
  {
   "metadata": {
    "ExecuteTime": {
     "end_time": "2025-09-02T03:15:28.275443Z",
     "start_time": "2025-09-02T03:15:19.075185Z"
    }
   },
   "cell_type": "code",
   "source": [
    "def Count(text , word):\n",
    "    return text.upper().count(word)\n",
    "text = input(\"문자열을 입력하여 주세요\")\n",
    "word = input(\"찾을 문자를 입력하세요\")\n",
    "\n",
    "print(f\"문자열에서 {word}의 갯수는 : {Count(text, word)}\")"
   ],
   "id": "220fdb62d6c18152",
   "outputs": [
    {
     "name": "stdout",
     "output_type": "stream",
     "text": [
      "문자열에서 YESTERDAY의 갯수는 : 9\n"
     ]
    }
   ],
   "execution_count": 7
  },
  {
   "metadata": {
    "ExecuteTime": {
     "end_time": "2025-09-02T03:19:59.531429Z",
     "start_time": "2025-09-02T03:19:39.908722Z"
    }
   },
   "cell_type": "code",
   "source": [
    "def Count(text):\n",
    "    content = \"\"\n",
    "    content = text.split()\n",
    "    return len(content)\n",
    "text = input(\"문자열을 입력하세요\")\n",
    "print(f\"문자열의 단어 갯수는 : {Count(text)}\")"
   ],
   "id": "70859dd1e47cfab0",
   "outputs": [
    {
     "name": "stdout",
     "output_type": "stream",
     "text": [
      "문자열의 단어 갯수는 : 10\n"
     ]
    }
   ],
   "execution_count": 8
  },
  {
   "metadata": {
    "ExecuteTime": {
     "end_time": "2025-09-02T03:27:10.507102Z",
     "start_time": "2025-09-02T03:27:09.117024Z"
    }
   },
   "cell_type": "code",
   "source": [
    "def Upper_Lower(text):\n",
    "    swapped = text.swapcase()\n",
    "    return print(f\"대소문자 변환된 문자열 : {swapped}\")\n",
    "text = input(\"문자열을 입력하세요\")\n",
    "Upper_Lower(text)\n"
   ],
   "id": "5a6b673f734b3c23",
   "outputs": [
    {
     "name": "stdout",
     "output_type": "stream",
     "text": [
      "대소문자 변환된 문자열 : lIST cOMPREHENSION\n"
     ]
    }
   ],
   "execution_count": 11
  },
  {
   "metadata": {
    "ExecuteTime": {
     "end_time": "2025-09-02T03:30:46.314100Z",
     "start_time": "2025-09-02T03:30:43.998763Z"
    }
   },
   "cell_type": "code",
   "source": [
    "def Same_revers(text):\n",
    "    is_Same = (text == text[::-1])\n",
    "    return is_Same\n",
    "text = input(\"문자열을 입력하세요\")\n",
    "\n",
    "print(f\"당신이 작성한 문자열이 회문인가요? : {Same_revers(text)}\")"
   ],
   "id": "6d7997b5d4819c36",
   "outputs": [
    {
     "name": "stdout",
     "output_type": "stream",
     "text": [
      "당신이 작성한 문자열이 회문인가요? : True\n"
     ]
    }
   ],
   "execution_count": 14
  },
  {
   "metadata": {
    "ExecuteTime": {
     "end_time": "2025-09-02T06:36:05.779387Z",
     "start_time": "2025-09-02T06:36:05.768160Z"
    }
   },
   "cell_type": "code",
   "source": [
    "my_list = list()\n",
    "my_list.append(\"사과\")\n",
    "my_list.append(\"바나나\")\n",
    "my_list.append(\"체리\")\n",
    "print(f\"list추가하기 : {my_list}\")\n",
    "my_list[0] = \"오렌지\"\n",
    "print(f\"list 수정하기 : {my_list}\")\n",
    "my_list.remove(\"바나나\")\n",
    "print(f\"list 제거하기 : {my_list}\")\n",
    "print(f\"list 전체 조회 : {my_list}\")\n",
    "search_item=\"체리\"\n",
    "if search_item in my_list:\n",
    "    print(f\"{search_item}이/가 리스트에 존재합니다\")\n",
    "else:\n",
    "    print(f\"{search_item}이/가 리스트에 존재하지 않습니다\")"
   ],
   "id": "dbce5ab62c588ccf",
   "outputs": [
    {
     "name": "stdout",
     "output_type": "stream",
     "text": [
      "list추가하기 : ['사과', '바나나', '체리']\n",
      "list 수정하기 : ['오렌지', '바나나', '체리']\n",
      "list 제거하기 : ['오렌지', '체리']\n",
      "list 전체 조회 : ['오렌지', '체리']\n",
      "체리이/가 리스트에 존재합니다\n"
     ]
    }
   ],
   "execution_count": 20
  },
  {
   "metadata": {
    "ExecuteTime": {
     "end_time": "2025-09-02T06:38:45.950635Z",
     "start_time": "2025-09-02T06:38:45.944002Z"
    }
   },
   "cell_type": "code",
   "source": [
    "duple = (\"사과\",\"바나나\",\"체리\")\n",
    "print(f\"튜플의 인덱스 1번 값 확인 : {duple[1]}\")\n",
    "search_item = \"바나나\"\n",
    "if search_item in duple:\n",
    "    print(f\"{search_item} 이/가 튜플에 있습니다\")"
   ],
   "id": "3d3580ccb5775637",
   "outputs": [
    {
     "name": "stdout",
     "output_type": "stream",
     "text": [
      "튜플의 인덱스 1번 값 확인 : 바나나\n",
      "바나나 이/가 튜플에 있습니다\n"
     ]
    }
   ],
   "execution_count": 21
  },
  {
   "metadata": {
    "ExecuteTime": {
     "end_time": "2025-09-02T07:07:32.427358Z",
     "start_time": "2025-09-02T07:07:28.596185Z"
    }
   },
   "cell_type": "code",
   "source": [
    "setList = set([\"수박\" , \"사과\",\"바나나\"])\n",
    "s = input(\"과일을 추가하세요\")\n",
    "setList.add(s)\n",
    "print(f\"setList 전체 조회 : {setList}\")\n",
    "setList.remove(\"사과\")\n",
    "print(f\"사과 삭제 : {setList}\")\n",
    "if \"바나나\" in setList:\n",
    "    print(f\"바나나는 setList에 잇습니다\")"
   ],
   "id": "ea1342d14a96f862",
   "outputs": [
    {
     "name": "stdout",
     "output_type": "stream",
     "text": [
      "setList 전체 조회 : {'체리', '사과', '수박', '바나나'}\n",
      "사과 삭제 : {'체리', '수박', '바나나'}\n",
      "바나나는 setList에 잇습니다\n"
     ]
    }
   ],
   "execution_count": 26
  },
  {
   "metadata": {
    "ExecuteTime": {
     "end_time": "2025-09-02T07:11:36.090225Z",
     "start_time": "2025-09-02T07:11:25.678621Z"
    }
   },
   "cell_type": "code",
   "source": [
    "student = list([\"지성\", \"채은\", \"준재\"])\n",
    "name = input(\"학생 이름을 입력하세요\")\n",
    "student.append(name)\n",
    "student.remove(\"준재\")\n",
    "print(f\"학생 전체 목록 : {student}\")\n",
    "search_name = input(\"찾고 싶은 학생 이름\")\n",
    "if search_name in student:\n",
    "    print(f\"{search_name}은 리스트에 있습니다\")\n"
   ],
   "id": "c4c57993de2421b0",
   "outputs": [
    {
     "name": "stdout",
     "output_type": "stream",
     "text": [
      "학생 전체 목록 : ['지성', '채은', '보경']\n",
      "지성은 리스트에 있습니다\n"
     ]
    }
   ],
   "execution_count": 27
  },
  {
   "metadata": {
    "ExecuteTime": {
     "end_time": "2025-09-02T07:19:57.989804Z",
     "start_time": "2025-09-02T07:19:56.412107Z"
    }
   },
   "cell_type": "code",
   "source": [
    "dic = {\"사과\" : 6, \"바나나\":8 , \"수박\":5}\n",
    "fruit = input(\"추가할 상품 이름\")\n",
    "dic[fruit] = 5\n",
    "print(f\"딕셔너리 제품 추가 : {dic}\")\n",
    "dic[\"사과\"]= 10\n",
    "print(f\"딕셔너리 제품 수정 : {dic}\")\n",
    "dic.pop(\"사과\")\n",
    "print(dic)\n",
    "if \"바나나\" in dic.keys():\n",
    "    print(f\"바나나는 딕셔너리에 있습니다.\")"
   ],
   "id": "ee579a2418d65ceb",
   "outputs": [
    {
     "name": "stdout",
     "output_type": "stream",
     "text": [
      "딕셔너리 제품 추가 : {'사과': 6, '바나나': 8, '수박': 5, '망고': 5}\n",
      "딕셔너리 제품 수정 : {'사과': 10, '바나나': 8, '수박': 5, '망고': 5}\n",
      "{'바나나': 8, '수박': 5, '망고': 5}\n",
      "바나나는 딕셔너리에 있습니다.\n"
     ]
    }
   ],
   "execution_count": 34
  },
  {
   "metadata": {
    "ExecuteTime": {
     "end_time": "2025-09-02T07:21:01.572739Z",
     "start_time": "2025-09-02T07:21:01.568749Z"
    }
   },
   "cell_type": "code",
   "source": [
    "number = list([1,1,2,2,3,3,4,5])\n",
    "print(f\"number : {number}\")\n",
    "number_set = set(number)\n",
    "print(f\"중복된 값 제거 : {number_set}\")"
   ],
   "id": "9e62d1faf2ef683d",
   "outputs": [
    {
     "name": "stdout",
     "output_type": "stream",
     "text": [
      "number : [1, 1, 2, 2, 3, 3, 4, 5]\n",
      "중복된 값 제거 : {1, 2, 3, 4, 5}\n"
     ]
    }
   ],
   "execution_count": 35
  }
 ],
 "metadata": {
  "kernelspec": {
   "name": "python3",
   "language": "python",
   "display_name": "Python 3 (ipykernel)"
  }
 },
 "nbformat": 4,
 "nbformat_minor": 5
}
