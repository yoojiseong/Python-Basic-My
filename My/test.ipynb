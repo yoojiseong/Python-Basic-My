{
 "cells": [
  {
   "metadata": {
    "ExecuteTime": {
     "end_time": "2025-09-02T03:03:51.439779Z",
     "start_time": "2025-09-02T03:03:46.334371Z"
    }
   },
   "cell_type": "code",
   "source": [
    "def lenghText(text):\n",
    "    return len(text)\n",
    "test = input(\"문자열을 입력하여 주세요\")\n",
    "print(f\"당신이 입력한 문자열의 길이는 : {lenghText(test)}\")\n"
   ],
   "id": "37fb945de8d53038",
   "outputs": [
    {
     "name": "stdout",
     "output_type": "stream",
     "text": [
      "당신이 입력한 문자열의 길이는 : 8\n"
     ]
    }
   ],
   "execution_count": 2
  },
  {
   "metadata": {
    "ExecuteTime": {
     "end_time": "2025-09-02T03:06:20.278551Z",
     "start_time": "2025-09-02T03:06:15.113344Z"
    }
   },
   "cell_type": "code",
   "source": [
    "def reversText(text):\n",
    "    return print(f\"문자열을 거꾸로 : {text[::-1]}\")\n",
    "text = input(\"문자열을 입력하여 주세요\")\n",
    "reversText(text)"
   ],
   "id": "f8059cf4435b5b5b",
   "outputs": [
    {
     "name": "stdout",
     "output_type": "stream",
     "text": [
      "문자열을 거꾸로 : 요세하녕안\n"
     ]
    }
   ],
   "execution_count": 3
  },
  {
   "metadata": {
    "ExecuteTime": {
     "end_time": "2025-09-02T03:15:28.275443Z",
     "start_time": "2025-09-02T03:15:19.075185Z"
    }
   },
   "cell_type": "code",
   "source": [
    "def Count(text , word):\n",
    "    return text.upper().count(word)\n",
    "text = input(\"문자열을 입력하여 주세요\")\n",
    "word = input(\"찾을 문자를 입력하세요\")\n",
    "\n",
    "print(f\"문자열에서 {word}의 갯수는 : {Count(text, word)}\")"
   ],
   "id": "220fdb62d6c18152",
   "outputs": [
    {
     "name": "stdout",
     "output_type": "stream",
     "text": [
      "문자열에서 YESTERDAY의 갯수는 : 9\n"
     ]
    }
   ],
   "execution_count": 7
  },
  {
   "metadata": {
    "ExecuteTime": {
     "end_time": "2025-09-02T03:19:59.531429Z",
     "start_time": "2025-09-02T03:19:39.908722Z"
    }
   },
   "cell_type": "code",
   "source": [
    "def Count(text):\n",
    "    content = \"\"\n",
    "    content = text.split()\n",
    "    return len(content)\n",
    "text = input(\"문자열을 입력하세요\")\n",
    "print(f\"문자열의 단어 갯수는 : {Count(text)}\")"
   ],
   "id": "70859dd1e47cfab0",
   "outputs": [
    {
     "name": "stdout",
     "output_type": "stream",
     "text": [
      "문자열의 단어 갯수는 : 10\n"
     ]
    }
   ],
   "execution_count": 8
  },
  {
   "metadata": {
    "ExecuteTime": {
     "end_time": "2025-09-02T03:27:10.507102Z",
     "start_time": "2025-09-02T03:27:09.117024Z"
    }
   },
   "cell_type": "code",
   "source": [
    "def Upper_Lower(text):\n",
    "    swapped = text.swapcase()\n",
    "    return print(f\"대소문자 변환된 문자열 : {swapped}\")\n",
    "text = input(\"문자열을 입력하세요\")\n",
    "Upper_Lower(text)\n"
   ],
   "id": "5a6b673f734b3c23",
   "outputs": [
    {
     "name": "stdout",
     "output_type": "stream",
     "text": [
      "대소문자 변환된 문자열 : lIST cOMPREHENSION\n"
     ]
    }
   ],
   "execution_count": 11
  },
  {
   "metadata": {
    "ExecuteTime": {
     "end_time": "2025-09-02T03:30:46.314100Z",
     "start_time": "2025-09-02T03:30:43.998763Z"
    }
   },
   "cell_type": "code",
   "source": [
    "def Same_revers(text):\n",
    "    is_Same = (text == text[::-1])\n",
    "    return is_Same\n",
    "text = input(\"문자열을 입력하세요\")\n",
    "\n",
    "print(f\"당신이 작성한 문자열이 회문인가요? : {Same_revers(text)}\")"
   ],
   "id": "6d7997b5d4819c36",
   "outputs": [
    {
     "name": "stdout",
     "output_type": "stream",
     "text": [
      "당신이 작성한 문자열이 회문인가요? : True\n"
     ]
    }
   ],
   "execution_count": 14
  },
  {
   "metadata": {
    "ExecuteTime": {
     "end_time": "2025-09-02T06:36:05.779387Z",
     "start_time": "2025-09-02T06:36:05.768160Z"
    }
   },
   "cell_type": "code",
   "source": [
    "my_list = list()\n",
    "my_list.append(\"사과\")\n",
    "my_list.append(\"바나나\")\n",
    "my_list.append(\"체리\")\n",
    "print(f\"list추가하기 : {my_list}\")\n",
    "my_list[0] = \"오렌지\"\n",
    "print(f\"list 수정하기 : {my_list}\")\n",
    "my_list.remove(\"바나나\")\n",
    "print(f\"list 제거하기 : {my_list}\")\n",
    "print(f\"list 전체 조회 : {my_list}\")\n",
    "search_item=\"체리\"\n",
    "if search_item in my_list:\n",
    "    print(f\"{search_item}이/가 리스트에 존재합니다\")\n",
    "else:\n",
    "    print(f\"{search_item}이/가 리스트에 존재하지 않습니다\")"
   ],
   "id": "dbce5ab62c588ccf",
   "outputs": [
    {
     "name": "stdout",
     "output_type": "stream",
     "text": [
      "list추가하기 : ['사과', '바나나', '체리']\n",
      "list 수정하기 : ['오렌지', '바나나', '체리']\n",
      "list 제거하기 : ['오렌지', '체리']\n",
      "list 전체 조회 : ['오렌지', '체리']\n",
      "체리이/가 리스트에 존재합니다\n"
     ]
    }
   ],
   "execution_count": 20
  },
  {
   "metadata": {
    "ExecuteTime": {
     "end_time": "2025-09-02T06:38:45.950635Z",
     "start_time": "2025-09-02T06:38:45.944002Z"
    }
   },
   "cell_type": "code",
   "source": [
    "duple = (\"사과\",\"바나나\",\"체리\")\n",
    "print(f\"튜플의 인덱스 1번 값 확인 : {duple[1]}\")\n",
    "search_item = \"바나나\"\n",
    "if search_item in duple:\n",
    "    print(f\"{search_item} 이/가 튜플에 있습니다\")"
   ],
   "id": "3d3580ccb5775637",
   "outputs": [
    {
     "name": "stdout",
     "output_type": "stream",
     "text": [
      "튜플의 인덱스 1번 값 확인 : 바나나\n",
      "바나나 이/가 튜플에 있습니다\n"
     ]
    }
   ],
   "execution_count": 21
  },
  {
   "metadata": {
    "ExecuteTime": {
     "end_time": "2025-09-02T07:07:32.427358Z",
     "start_time": "2025-09-02T07:07:28.596185Z"
    }
   },
   "cell_type": "code",
   "source": [
    "setList = set([\"수박\" , \"사과\",\"바나나\"])\n",
    "s = input(\"과일을 추가하세요\")\n",
    "setList.add(s)\n",
    "print(f\"setList 전체 조회 : {setList}\")\n",
    "setList.remove(\"사과\")\n",
    "print(f\"사과 삭제 : {setList}\")\n",
    "if \"바나나\" in setList:\n",
    "    print(f\"바나나는 setList에 잇습니다\")"
   ],
   "id": "ea1342d14a96f862",
   "outputs": [
    {
     "name": "stdout",
     "output_type": "stream",
     "text": [
      "setList 전체 조회 : {'체리', '사과', '수박', '바나나'}\n",
      "사과 삭제 : {'체리', '수박', '바나나'}\n",
      "바나나는 setList에 잇습니다\n"
     ]
    }
   ],
   "execution_count": 26
  },
  {
   "metadata": {
    "ExecuteTime": {
     "end_time": "2025-09-02T07:11:36.090225Z",
     "start_time": "2025-09-02T07:11:25.678621Z"
    }
   },
   "cell_type": "code",
   "source": [
    "student = list([\"지성\", \"채은\", \"준재\"])\n",
    "name = input(\"학생 이름을 입력하세요\")\n",
    "student.append(name)\n",
    "student.remove(\"준재\")\n",
    "print(f\"학생 전체 목록 : {student}\")\n",
    "search_name = input(\"찾고 싶은 학생 이름\")\n",
    "if search_name in student:\n",
    "    print(f\"{search_name}은 리스트에 있습니다\")\n"
   ],
   "id": "c4c57993de2421b0",
   "outputs": [
    {
     "name": "stdout",
     "output_type": "stream",
     "text": [
      "학생 전체 목록 : ['지성', '채은', '보경']\n",
      "지성은 리스트에 있습니다\n"
     ]
    }
   ],
   "execution_count": 27
  },
  {
   "metadata": {
    "ExecuteTime": {
     "end_time": "2025-09-02T07:19:57.989804Z",
     "start_time": "2025-09-02T07:19:56.412107Z"
    }
   },
   "cell_type": "code",
   "source": [
    "dic = {\"사과\" : 6, \"바나나\":8 , \"수박\":5}\n",
    "fruit = input(\"추가할 상품 이름\")\n",
    "dic[fruit] = 5\n",
    "print(f\"딕셔너리 제품 추가 : {dic}\")\n",
    "dic[\"사과\"]= 10\n",
    "print(f\"딕셔너리 제품 수정 : {dic}\")\n",
    "dic.pop(\"사과\")\n",
    "print(dic)\n",
    "if \"바나나\" in dic.keys():\n",
    "    print(f\"바나나는 딕셔너리에 있습니다.\")"
   ],
   "id": "ee579a2418d65ceb",
   "outputs": [
    {
     "name": "stdout",
     "output_type": "stream",
     "text": [
      "딕셔너리 제품 추가 : {'사과': 6, '바나나': 8, '수박': 5, '망고': 5}\n",
      "딕셔너리 제품 수정 : {'사과': 10, '바나나': 8, '수박': 5, '망고': 5}\n",
      "{'바나나': 8, '수박': 5, '망고': 5}\n",
      "바나나는 딕셔너리에 있습니다.\n"
     ]
    }
   ],
   "execution_count": 34
  },
  {
   "metadata": {
    "ExecuteTime": {
     "end_time": "2025-09-02T07:21:01.572739Z",
     "start_time": "2025-09-02T07:21:01.568749Z"
    }
   },
   "cell_type": "code",
   "source": [
    "number = list([1,1,2,2,3,3,4,5])\n",
    "print(f\"number : {number}\")\n",
    "number_set = set(number)\n",
    "print(f\"중복된 값 제거 : {number_set}\")"
   ],
   "id": "9e62d1faf2ef683d",
   "outputs": [
    {
     "name": "stdout",
     "output_type": "stream",
     "text": [
      "number : [1, 1, 2, 2, 3, 3, 4, 5]\n",
      "중복된 값 제거 : {1, 2, 3, 4, 5}\n"
     ]
    }
   ],
   "execution_count": 35
  },
  {
   "metadata": {},
   "cell_type": "code",
   "outputs": [],
   "execution_count": null,
   "source": "",
   "id": "26d7d5eb6d0be8f"
  },
  {
   "metadata": {
    "ExecuteTime": {
     "end_time": "2025-09-05T00:39:53.502219Z",
     "start_time": "2025-09-05T00:39:53.498119Z"
    }
   },
   "cell_type": "code",
   "source": [
    "# **문제 1: 배열 생성 및 변형**\n",
    "# 1부터 25까지의 숫자를 포함하는 1차원 배열을 만든 후, 이 배열을 5x5 크기의 2차원 배열로 변형하세요\n",
    "import numpy as np\n",
    "\n",
    "my_list = np.arange(25)\n",
    "print(my_list)\n",
    "my_list2 = my_list.reshape(5,5)\n",
    "print(my_list2)\n"
   ],
   "id": "22e4f505444ef8ec",
   "outputs": [
    {
     "name": "stdout",
     "output_type": "stream",
     "text": [
      "[ 0  1  2  3  4  5  6  7  8  9 10 11 12 13 14 15 16 17 18 19 20 21 22 23\n",
      " 24]\n",
      "[[ 0  1  2  3  4]\n",
      " [ 5  6  7  8  9]\n",
      " [10 11 12 13 14]\n",
      " [15 16 17 18 19]\n",
      " [20 21 22 23 24]]\n"
     ]
    }
   ],
   "execution_count": 2
  },
  {
   "metadata": {},
   "cell_type": "code",
   "outputs": [],
   "execution_count": null,
   "source": [
    "# **문제 2: 배열 슬라이싱**\n",
    "# 위 1번 문제에서 생성한 5x5 배열에서, 아래 그림과 같이 안쪽에 위치한 3x3 배열(값 7부터 19까지)을 슬라이싱하여 추출하세요.\n",
    "arr1 = np.arange(25).reshape(5,5)\n",
    "print(arr1)\n",
    "arr2 = arr1[1:4, 2:5]\n",
    "print(f\"슬라이싱한 배열 : \\n{arr2}\")"
   ],
   "id": "904290e178ad1c6"
  },
  {
   "metadata": {},
   "cell_type": "code",
   "outputs": [],
   "execution_count": null,
   "source": [
    "# **문제 3: 브로드캐스팅 활용 연산**\n",
    "# 2x3 크기의 배열 `A = np.array([[5, 10, 15], [20, 25, 30]])`가 있습니다. 이 배열의 첫 번째 행에는 100을, 두 번째 행에는 200을 더하세요. 브로드캐스팅을 활용하여 한 줄의 코드로 해결해 보세요.\n",
    "# (힌트: `[[100], [200]]` 형태의 배열을 더해야 합니다.)\n",
    "arr1 = np.array([[5, 10, 15], [20, 25, 30]])\n",
    "arr2 = np.array([[100],[200]])\n",
    "result = arr1 + arr2\n",
    "print(result)"
   ],
   "id": "7a0a43ab2eb35e93"
  },
  {
   "metadata": {},
   "cell_type": "code",
   "outputs": [],
   "execution_count": null,
   "source": [
    "# **문제 4: 불리언 인덱싱 (필터링)**\n",
    "# 0부터 15까지의 숫자를 가진 4x4 배열을 만드세요. 이 배열에서 3의 배수만 모두 추출하여 1차원 배열로 만드세요.\n",
    "arr1 = np.arange(16).reshape(4, 4)\n",
    "condition = (arr1 % 3 == 0) & arr1 > 0\n",
    "result = arr1[condition]\n",
    "print(result)"
   ],
   "id": "53c0409b8a0458cc"
  },
  {
   "metadata": {
    "ExecuteTime": {
     "end_time": "2025-09-05T00:42:24.161516Z",
     "start_time": "2025-09-05T00:42:24.154052Z"
    }
   },
   "cell_type": "code",
   "source": [
    "# **문제 5: 통계 연산 (축 기준)**\n",
    "# 다음은 4일간 3개 상점의 일일 매출 데이터입니다.\n",
    "# `sales = np.array([[50, 60, 55], [80, 95, 75], [40, 100, 90], [70, 85, 80]])`\n",
    "# 각 상점별(열 기준) 평균 매출과 각 날짜별(행 기준) 총매출을 각각 계산하세요.\n",
    "import pandas as pd\n",
    "sales = np.array([[50, 60, 55], [80, 95, 75], [40, 100, 90], [70, 85, 80]])\n",
    "print(f\"각 가게의 총매출 : {np.sum(sales, axis=0)}\")\n",
    "print(f\"하루 총 매출 : {np.sum(sales, axis=1)}\")\n",
    "\n",
    "df = pd.DataFrame({\n",
    "    '가게 총 매출': np.sum(sales, axis=0),\n",
    "    '평균 매출': np.mean(sales, axis=0),\n",
    "})\n",
    "df.index = ['성진상화','무당포상회','왕표상회']\n",
    "print(df)"
   ],
   "id": "c1d6d1c8f87e02db",
   "outputs": [
    {
     "name": "stdout",
     "output_type": "stream",
     "text": [
      "각 가게의 총매출 : [240 340 300]\n",
      "하루 총 매출 : [165 250 230 235]\n",
      "       가게 총 매출  평균 매출\n",
      "성진상화       240   60.0\n",
      "무당포상회      340   85.0\n",
      "왕표상회       300   75.0\n"
     ]
    }
   ],
   "execution_count": 5
  },
  {
   "metadata": {},
   "cell_type": "code",
   "outputs": [],
   "execution_count": null,
   "source": [
    "# **문제 6: `np.where` 활용**\n",
    "# 1부터 10까지의 숫자를 가진 배열에서, 5보다 큰 숫자는 제곱하고, 5보다 작거나 같은 숫자는 0으로 바꾸는 새로운 배열을 생성하세요.\n",
    "arr1 = np.arange(1,11)\n",
    "result = np.where(arr1 > 5, arr1*arr1 , 0)\n",
    "print(result)"
   ],
   "id": "37d959e32e42ccbb"
  },
  {
   "metadata": {},
   "cell_type": "code",
   "outputs": [],
   "execution_count": null,
   "source": [
    "# **문제 7: `argmax` 활용**\n",
    "# 어떤 선수의 주간 득점 기록이 `scores = np.array([12, 25, 8, 31, 19, 22, 15])`와 같습니다. 이 선수가 가장 높은 득점을 기록한 것은 몇 번째 주(week)인지 찾아내세요. (인덱스는 0부터 시작)\n",
    "scores = np.array([12, 25, 8, 31, 19, 22, 15])\n",
    "max_score = np.argmax(scores)\n",
    "print(f\"최고 득점 주(Week) : {max_score}\")"
   ],
   "id": "4eddb9d0c6257968"
  },
  {
   "metadata": {},
   "cell_type": "code",
   "outputs": [],
   "execution_count": null,
   "source": [
    "# **문제 8: 배열 합치기**\n",
    "# `a = np.array([[1, 2], [3, 4]])`와 `b = np.array([[5, 6]])`가 있습니다. `b`를 `a`의 아래에 수직으로 붙여서 3x2 배열을 만드세요.\n",
    "a = np.array([[1, 2], [3, 4]])\n",
    "b = np.array([[5, 6]])\n",
    "result = np.concatenate((a,b), axis=0)\n",
    "print(result)"
   ],
   "id": "998d84f26ce3b573"
  },
  {
   "metadata": {},
   "cell_type": "code",
   "outputs": [],
   "execution_count": null,
   "source": [
    "# **문제 9: 결측치(NaN) 처리**\n",
    "# 다음 배열에서 결측치(`np.nan`)의 개수를 세고, 결측치를 해당 배열의 전체 평균값(결측치를 제외한)으로 대체하세요.\n",
    "# `data = np.array([10., 20., np.nan, 30., 40., np.nan, 50.])`"
   ],
   "id": "26b3bcdda4ab7c14"
  }
 ],
 "metadata": {
  "kernelspec": {
   "name": "python3",
   "language": "python",
   "display_name": "Python 3 (ipykernel)"
  }
 },
 "nbformat": 4,
 "nbformat_minor": 5
}
